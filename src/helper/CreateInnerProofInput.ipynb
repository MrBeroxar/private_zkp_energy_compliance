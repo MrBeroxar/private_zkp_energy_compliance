{
 "cells": [
  {
   "cell_type": "markdown",
   "metadata": {},
   "source": [
    "This notebook was used to create json input for the inner proofs quickly while implementing the system to test it"
   ]
  },
  {
   "cell_type": "code",
   "execution_count": null,
   "metadata": {},
   "outputs": [],
   "source": [
    "import json\n",
    "import struct\n",
    "from zokrates_pycrypto.curves import Decaf377\n",
    "from zokrates_pycrypto.eddsa import PrivateKey, PublicKey\n",
    "\n",
    "def arrays_to_bytes(arrays):\n",
    "    fmt = '>' + 'I' * len(arrays)  \n",
    "    return struct.pack(fmt, *arrays)\n",
    "\n",
    "def compute_net_result(consumption, production):\n",
    "    p = 8444461749428370424248824938781546531375899335154063827935233455917409239041\n",
    "    net_result = sum(consumption) - sum(production)\n",
    "    if sum(production) > sum(consumption):\n",
    "        net_result += p\n",
    "    return net_result\n",
    "\n",
    "def sign_parts(consumption, production, sk, parts=2):\n",
    "    part_size = len(consumption) // parts\n",
    "    signatures = []\n",
    "    public_keys = []\n",
    "\n",
    "    for i in range(parts):\n",
    "        start = i * part_size\n",
    "        end = (i + 1) * part_size\n",
    "        raw_msg = arrays_to_bytes(consumption[start:end] + production[start:end])\n",
    "        sig = sk.sign(raw_msg)\n",
    "        pk = PublicKey.from_private(sk)\n",
    "        signatures.append(sig)\n",
    "        public_keys.append(pk)\n",
    "    \n",
    "    return signatures, public_keys[0]  # Assuming the same PK for all parts\n",
    "\n",
    "if __name__ == \"__main__\":\n",
    "    consumption = [4] * 8  # Change size as needed\n",
    "    production = [2] * 8  # Change size as needed\n",
    "    net_result = compute_net_result(consumption, production)\n",
    "\n",
    "    key = 5145218980968378210524378404035776788013036277399811805365337506608398016000\n",
    "    sk = PrivateKey(key, curve=Decaf377)\n",
    "\n",
    "    parts = len(consumption) // 8\n",
    "    signatures, pk = sign_parts(consumption, production, sk, parts)\n",
    "\n",
    "   \n",
    "    json_output = []\n",
    "    for sig in signatures:\n",
    "        json_output.extend([\n",
    "            [str(sig[0].x.n), str(sig[0].y.n)], str(sig[1])\n",
    "        ])\n",
    "\n",
    "    json_output.append([str(pk.point.x.n), str(pk.point.y.n)])\n",
    "\n",
    "    json_output.extend([\n",
    "        [str(x) for x in consumption], [str(x) for x in production], str(net_result)\n",
    "    ])\n",
    "    print(json.dumps(json_output, indent=2))"
   ]
  }
 ],
 "metadata": {
  "kernelspec": {
   "display_name": "Python 3",
   "language": "python",
   "name": "python3"
  },
  "language_info": {
   "codemirror_mode": {
    "name": "ipython",
    "version": 3
   },
   "file_extension": ".py",
   "mimetype": "text/x-python",
   "name": "python",
   "nbconvert_exporter": "python",
   "pygments_lexer": "ipython3",
   "version": "3.11.1"
  },
  "orig_nbformat": 4
 },
 "nbformat": 4,
 "nbformat_minor": 2
}
